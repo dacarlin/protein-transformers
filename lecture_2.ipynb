{
 "cells": [
  {
   "cell_type": "code",
   "execution_count": 1,
   "metadata": {},
   "outputs": [],
   "source": [
    "# pip install torch rich ipywidgets"
   ]
  },
  {
   "cell_type": "code",
   "execution_count": 2,
   "metadata": {},
   "outputs": [
    {
     "data": {
      "text/plain": [
       "<torch._C.Generator at 0x1088bd730>"
      ]
     },
     "execution_count": 2,
     "metadata": {},
     "output_type": "execute_result"
    }
   ],
   "source": [
    "import torch \n",
    "from biotite.sequence.io.fasta import FastaFile\n",
    "from rich.progress import track \n",
    "import torch.nn.functional as F\n",
    "import plotly.express as px \n",
    "import matplotlib.pyplot as plt \n",
    "\n",
    "\n",
    "torch.manual_seed(12)"
   ]
  },
  {
   "cell_type": "code",
   "execution_count": 3,
   "metadata": {},
   "outputs": [
    {
     "data": {
      "text/plain": [
       "(['MCLLSLAAATVAARRTPLRLLGRGLAAAMSTAGPLKSVDYEVFGRVQGVCFRMYTEGEAKKIGVVGWVKNTSKGTVTGQVQGPEDKVNSMKSWLSKVGSPSSRIDRTNFSNEKTISKLEYSNFSIRY',\n",
       "  'MSSQIKKSKTTTKKLVKSAPKSVPNAAADDQIFCCQFEVFGHVQDFSGVFFRKHTQKKANELGITGWCMNTTRGTVQGMLEGSLDQMTDMKYWLQHKGSPRSVIEKAVFSENEALPINNFKMFSIRR',\n",
       "  'MLTKLYLKIVLCLLVALPFLSEVTSQNTDTTMTKLVGVDFEVYGRVQGVFFRKYTQKHSTELGLKGWCMNTDKGTVVGRIEGEKEKVEQMKNWLRYTGSPQSAIDKAEFKNEKELSQPSFTNFEIKK'],\n",
       " 127)"
      ]
     },
     "execution_count": 3,
     "metadata": {},
     "output_type": "execute_result"
    }
   ],
   "source": [
    "# read in our FASTA file \n",
    "input_file = \"./fasta/hypf.fa\"\n",
    "\n",
    "proteins = []\n",
    "fasta_file = FastaFile.read(input_file) \n",
    "for header, sequence in fasta_file.items():\n",
    "    proteins.append(sequence)\n",
    "\n",
    "max_protein_length = max(len(w) for w in proteins)\n",
    "\n",
    "proteins[:3], max_protein_length"
   ]
  },
  {
   "cell_type": "code",
   "execution_count": 4,
   "metadata": {},
   "outputs": [
    {
     "name": "stdout",
     "output_type": "stream",
     "text": [
      "Number of examples in the dataset: 26779\n",
      "Max protein length: 127\n",
      "Number of unique characters in the vocabulary: 20\n",
      "Vocabulary (amino acids): ACDEFGHIKLMNPQRSTVWY\n",
      "Total tokens: 2519424\n"
     ]
    }
   ],
   "source": [
    "chars = sorted(list(set(''.join(proteins)))) # all the possible characters\n",
    "tokens = sum(len(w) for w in proteins)\n",
    "\n",
    "print(f\"Number of examples in the dataset: {len(proteins)}\")\n",
    "print(f\"Max protein length: {max_protein_length}\")\n",
    "print(f\"Number of unique characters in the vocabulary: {len(chars)}\")\n",
    "print(f\"Vocabulary (amino acids): {''.join(chars)}\")\n",
    "print(f\"Total tokens: {tokens}\")"
   ]
  },
  {
   "cell_type": "code",
   "execution_count": 5,
   "metadata": {},
   "outputs": [
    {
     "name": "stdout",
     "output_type": "stream",
     "text": [
      "{1: 'A', 2: 'C', 3: 'D', 4: 'E', 5: 'F', 6: 'G', 7: 'H', 8: 'I', 9: 'K', 10: 'L', 11: 'M', 12: 'N', 13: 'P', 14: 'Q', 15: 'R', 16: 'S', 17: 'T', 18: 'V', 19: 'W', 20: 'Y', 0: '.'}\n"
     ]
    }
   ],
   "source": [
    "# build our tokenizer, or mapping from tokens to ints \n",
    "\n",
    "stoi = {s:i+1 for i,s in enumerate(chars)}\n",
    "stoi['.'] = 0\n",
    "itos = {i:s for s,i in stoi.items()}\n",
    "\n",
    "print(itos)"
   ]
  },
  {
   "cell_type": "code",
   "execution_count": 6,
   "metadata": {},
   "outputs": [],
   "source": [
    "# build the dataset\n",
    "\n",
    "block_size = 3 # context length: how many characters do we take to predict the next one?\n",
    "X, Y = [], []\n",
    "for protein in proteins:\n",
    "  \n",
    "  #print(w)\n",
    "  context = [0] * block_size\n",
    "  for ch in protein + '.':\n",
    "    ix = stoi[ch]\n",
    "    X.append(context)\n",
    "    Y.append(ix)\n",
    "    #print(''.join(itos[i] for i in context), '--->', itos[ix])\n",
    "    context = context[1:] + [ix] # crop and append\n",
    "  \n",
    "X = torch.tensor(X)\n",
    "Y = torch.tensor(Y)"
   ]
  },
  {
   "cell_type": "code",
   "execution_count": 7,
   "metadata": {},
   "outputs": [
    {
     "data": {
      "text/plain": [
       "(torch.Size([2546203, 3]), torch.int64, torch.Size([2546203]), torch.int64)"
      ]
     },
     "execution_count": 7,
     "metadata": {},
     "output_type": "execute_result"
    }
   ],
   "source": [
    "X.shape, X.dtype, Y.shape, Y.dtype"
   ]
  },
  {
   "cell_type": "code",
   "execution_count": 8,
   "metadata": {},
   "outputs": [
    {
     "name": "stdout",
     "output_type": "stream",
     "text": [
      "torch.Size([2037684, 3]) torch.Size([2037684])\n",
      "torch.Size([254381, 3]) torch.Size([254381])\n",
      "torch.Size([254138, 3]) torch.Size([254138])\n"
     ]
    }
   ],
   "source": [
    "# build the dataset\n",
    "block_size = 3 # context length: how many characters do we take to predict the next one?\n",
    "\n",
    "def build_dataset(proteins):  \n",
    "  X, Y = [], []\n",
    "  for w in proteins:\n",
    "\n",
    "    #print(w)\n",
    "    context = [0] * block_size\n",
    "    for ch in w + '.':\n",
    "      ix = stoi[ch]\n",
    "      X.append(context)\n",
    "      Y.append(ix)\n",
    "      #print(''.join(itos[i] for i in context), '--->', itos[ix])\n",
    "      context = context[1:] + [ix] # crop and append\n",
    "\n",
    "  X = torch.tensor(X)\n",
    "  Y = torch.tensor(Y)\n",
    "  print(X.shape, Y.shape)\n",
    "  return X, Y\n",
    "\n",
    "import random\n",
    "random.seed(42)\n",
    "random.shuffle(proteins)\n",
    "n1 = int(0.8*len(proteins))\n",
    "n2 = int(0.9*len(proteins))\n",
    "\n",
    "Xtr, Ytr = build_dataset(proteins[:n1])\n",
    "Xdev, Ydev = build_dataset(proteins[n1:n2])\n",
    "Xte, Yte = build_dataset(proteins[n2:])\n"
   ]
  },
  {
   "cell_type": "code",
   "execution_count": 9,
   "metadata": {},
   "outputs": [],
   "source": [
    "vocab_size = len(chars) + 1\n",
    "\n",
    "C = torch.randn((vocab_size, 2))"
   ]
  },
  {
   "cell_type": "code",
   "execution_count": 10,
   "metadata": {},
   "outputs": [
    {
     "data": {
      "text/plain": [
       "torch.Size([2546203, 3, 2])"
      ]
     },
     "execution_count": 10,
     "metadata": {},
     "output_type": "execute_result"
    }
   ],
   "source": [
    "emb = C[X]\n",
    "emb.shape"
   ]
  },
  {
   "cell_type": "code",
   "execution_count": 11,
   "metadata": {},
   "outputs": [],
   "source": [
    "W1 = torch.randn((6, 100))\n",
    "b1 = torch.randn(100)"
   ]
  },
  {
   "cell_type": "code",
   "execution_count": 12,
   "metadata": {},
   "outputs": [],
   "source": [
    "h = torch.tanh(emb.view(-1, 6) @ W1 + b1)"
   ]
  },
  {
   "cell_type": "code",
   "execution_count": 13,
   "metadata": {},
   "outputs": [
    {
     "data": {
      "text/plain": [
       "tensor([[-0.6610, -0.4846,  0.8942,  ...,  0.2203, -0.9264, -0.9143],\n",
       "        [-0.9955, -0.0533,  0.8779,  ...,  0.4592, -0.9898, -0.9981],\n",
       "        [-0.9458, -0.7417,  0.9280,  ..., -0.4493, -0.7331, -0.9944],\n",
       "        ...,\n",
       "        [-0.9986, -0.2114,  0.9919,  ..., -0.8042, -0.9961, -0.9987],\n",
       "        [-0.9577,  0.3100,  0.5389,  ..., -0.8764, -1.0000, -0.8677],\n",
       "        [-0.9853, -0.3444,  0.5257,  ..., -0.8495, -1.0000, -0.9855]])"
      ]
     },
     "execution_count": 13,
     "metadata": {},
     "output_type": "execute_result"
    }
   ],
   "source": [
    "h"
   ]
  },
  {
   "cell_type": "code",
   "execution_count": 14,
   "metadata": {},
   "outputs": [
    {
     "data": {
      "text/plain": [
       "torch.Size([2546203, 100])"
      ]
     },
     "execution_count": 14,
     "metadata": {},
     "output_type": "execute_result"
    }
   ],
   "source": [
    "h.shape"
   ]
  },
  {
   "cell_type": "code",
   "execution_count": 15,
   "metadata": {},
   "outputs": [],
   "source": [
    "W2 = torch.randn((100, vocab_size))\n",
    "b2 = torch.randn(vocab_size)"
   ]
  },
  {
   "cell_type": "code",
   "execution_count": 16,
   "metadata": {},
   "outputs": [],
   "source": [
    "logits = h @ W2 + b2"
   ]
  },
  {
   "cell_type": "code",
   "execution_count": 17,
   "metadata": {},
   "outputs": [
    {
     "data": {
      "text/plain": [
       "torch.Size([2546203, 21])"
      ]
     },
     "execution_count": 17,
     "metadata": {},
     "output_type": "execute_result"
    }
   ],
   "source": [
    "logits.shape"
   ]
  },
  {
   "cell_type": "code",
   "execution_count": 18,
   "metadata": {},
   "outputs": [],
   "source": [
    "counts = logits.exp()"
   ]
  },
  {
   "cell_type": "code",
   "execution_count": 19,
   "metadata": {},
   "outputs": [],
   "source": [
    "prob = counts / counts.sum(1, keepdims=True)"
   ]
  },
  {
   "cell_type": "code",
   "execution_count": 20,
   "metadata": {},
   "outputs": [
    {
     "data": {
      "text/plain": [
       "torch.Size([2546203, 21])"
      ]
     },
     "execution_count": 20,
     "metadata": {},
     "output_type": "execute_result"
    }
   ],
   "source": [
    "prob.shape"
   ]
  },
  {
   "cell_type": "code",
   "execution_count": 21,
   "metadata": {},
   "outputs": [
    {
     "data": {
      "text/plain": [
       "tensor(13.7438)"
      ]
     },
     "execution_count": 21,
     "metadata": {},
     "output_type": "execute_result"
    }
   ],
   "source": [
    "loss = -prob[torch.arange(X.shape[0]), Y].log().mean()\n",
    "loss"
   ]
  },
  {
   "cell_type": "code",
   "execution_count": 22,
   "metadata": {},
   "outputs": [],
   "source": [
    "# ------------ now made respectable :) ---------------"
   ]
  },
  {
   "cell_type": "code",
   "execution_count": 23,
   "metadata": {},
   "outputs": [
    {
     "data": {
      "text/plain": [
       "(torch.Size([2037684, 3]), torch.Size([2037684]))"
      ]
     },
     "execution_count": 23,
     "metadata": {},
     "output_type": "execute_result"
    }
   ],
   "source": [
    "Xtr.shape, Ytr.shape # dataset"
   ]
  },
  {
   "cell_type": "code",
   "execution_count": 24,
   "metadata": {},
   "outputs": [],
   "source": [
    "g = torch.Generator().manual_seed(2147483647) # for reproducibility\n",
    "C = torch.randn((vocab_size, 10), generator=g)\n",
    "W1 = torch.randn((30, 200), generator=g)\n",
    "b1 = torch.randn(200, generator=g)\n",
    "W2 = torch.randn((200, vocab_size), generator=g)\n",
    "b2 = torch.randn(vocab_size, generator=g)\n",
    "parameters = [C, W1, b1, W2, b2]"
   ]
  },
  {
   "cell_type": "code",
   "execution_count": 25,
   "metadata": {},
   "outputs": [
    {
     "data": {
      "text/plain": [
       "10631"
      ]
     },
     "execution_count": 25,
     "metadata": {},
     "output_type": "execute_result"
    }
   ],
   "source": [
    "sum(p.nelement() for p in parameters) # number of parameters in total"
   ]
  },
  {
   "cell_type": "code",
   "execution_count": 26,
   "metadata": {},
   "outputs": [],
   "source": [
    "for p in parameters:\n",
    "  p.requires_grad = True"
   ]
  },
  {
   "cell_type": "code",
   "execution_count": 27,
   "metadata": {},
   "outputs": [],
   "source": [
    "lre = torch.linspace(-3, 0, 1000)\n",
    "lrs = 10**lre"
   ]
  },
  {
   "cell_type": "code",
   "execution_count": 28,
   "metadata": {},
   "outputs": [],
   "source": [
    "lri = []\n",
    "lossi = []\n",
    "stepi = []"
   ]
  },
  {
   "cell_type": "code",
   "execution_count": 29,
   "metadata": {},
   "outputs": [
    {
     "data": {
      "application/vnd.jupyter.widget-view+json": {
       "model_id": "e0ce6b8ebaaf46be90a3338a66bc08a0",
       "version_major": 2,
       "version_minor": 0
      },
      "text/plain": [
       "Output()"
      ]
     },
     "metadata": {},
     "output_type": "display_data"
    },
    {
     "data": {
      "text/html": [
       "<pre style=\"white-space:pre;overflow-x:auto;line-height:normal;font-family:Menlo,'DejaVu Sans Mono',consolas,'Courier New',monospace\"></pre>\n"
      ],
      "text/plain": []
     },
     "metadata": {},
     "output_type": "display_data"
    }
   ],
   "source": [
    "for i in track(range(200000)):\n",
    "  \n",
    "  # minibatch construct\n",
    "  ix = torch.randint(0, Xtr.shape[0], (32,))\n",
    "  \n",
    "  # forward pass\n",
    "  emb = C[Xtr[ix]] # (32, 3, 10)\n",
    "  #print(emb.shape)\n",
    "  h = torch.tanh(emb.view(-1, 30) @ W1 + b1) # (32, 200)\n",
    "  logits = h @ W2 + b2 # (32, vocab_size)\n",
    "  loss = F.cross_entropy(logits, Ytr[ix])\n",
    "  #print(loss.item())\n",
    "  \n",
    "  # backward pass\n",
    "  for p in parameters:\n",
    "    p.grad = None\n",
    "  loss.backward()\n",
    "  \n",
    "  # update\n",
    "  #lr = lrs[i]\n",
    "  lr = 0.1 if i < 100000 else 0.01\n",
    "  for p in parameters:\n",
    "    p.data += -lr * p.grad\n",
    "\n",
    "  # track stats\n",
    "  #lri.append(lre[i])\n",
    "  stepi.append(i)\n",
    "  lossi.append(loss.log10().item())\n",
    "\n",
    "#print(loss.item())"
   ]
  },
  {
   "cell_type": "code",
   "execution_count": 30,
   "metadata": {},
   "outputs": [
    {
     "data": {
      "text/plain": [
       "[<matplotlib.lines.Line2D at 0x16dce0c90>]"
      ]
     },
     "execution_count": 30,
     "metadata": {},
     "output_type": "execute_result"
    },
    {
     "data": {
      "image/png": "[encoded data removed]",
      "text/plain": [
       "<Figure size 640x480 with 1 Axes>"
      ]
     },
     "metadata": {},
     "output_type": "display_data"
    }
   ],
   "source": [
    "plt.plot(stepi, lossi) "
   ]
  },
  {
   "cell_type": "code",
   "execution_count": 31,
   "metadata": {},
   "outputs": [
    {
     "data": {
      "text/plain": [
       "tensor(2.2076, grad_fn=<NllLossBackward0>)"
      ]
     },
     "execution_count": 31,
     "metadata": {},
     "output_type": "execute_result"
    }
   ],
   "source": [
    "emb = C[Xtr] # (32, 3, 2)\n",
    "h = torch.tanh(emb.view(-1, 30) @ W1 + b1) # (32, 100)\n",
    "logits = h @ W2 + b2 # (32, vocab_size)\n",
    "loss = F.cross_entropy(logits, Ytr)\n",
    "loss"
   ]
  },
  {
   "cell_type": "code",
   "execution_count": 32,
   "metadata": {},
   "outputs": [
    {
     "data": {
      "text/plain": [
       "tensor(2.2230, grad_fn=<NllLossBackward0>)"
      ]
     },
     "execution_count": 32,
     "metadata": {},
     "output_type": "execute_result"
    }
   ],
   "source": [
    "emb = C[Xdev] # (32, 3, 2)\n",
    "h = torch.tanh(emb.view(-1, 30) @ W1 + b1) # (32, 100)\n",
    "logits = h @ W2 + b2 # (32, vocab_size)\n",
    "loss = F.cross_entropy(logits, Ydev)\n",
    "loss"
   ]
  },
  {
   "cell_type": "code",
   "execution_count": 33,
   "metadata": {},
   "outputs": [
    {
     "data": {
      "image/png": "[encoded data removed]",
      "text/plain": [
       "<Figure size 800x800 with 1 Axes>"
      ]
     },
     "metadata": {},
     "output_type": "display_data"
    }
   ],
   "source": [
    "# visualize dimensions 0 and 1 of the embedding matrix C for all amino acids \n",
    "plt.figure(figsize=(8,8))\n",
    "plt.scatter(C[:,0].data, C[:,1].data, s=300, c='k')\n",
    "for i in range(C.shape[0]):\n",
    "    #itos[i]\n",
    "    plt.text(C[i,0].item(), C[i,1].item(), itos[i], ha=\"center\", va=\"center\", color='white')\n",
    "plt.grid('minor')"
   ]
  },
  {
   "cell_type": "code",
   "execution_count": 34,
   "metadata": {},
   "outputs": [],
   "source": [
    "# training split, dev/validation split, test split\n",
    "# 80%, 10%, 10%"
   ]
  },
  {
   "cell_type": "code",
   "execution_count": 35,
   "metadata": {},
   "outputs": [
    {
     "data": {
      "text/plain": [
       "torch.Size([1, 3, 10])"
      ]
     },
     "execution_count": 35,
     "metadata": {},
     "output_type": "execute_result"
    }
   ],
   "source": [
    "context = [0] * block_size\n",
    "C[torch.tensor([context])].shape"
   ]
  },
  {
   "cell_type": "code",
   "execution_count": 36,
   "metadata": {},
   "outputs": [
    {
     "name": "stdout",
     "output_type": "stream",
     "text": [
      ">sample\n",
      "MIRKLGITVTAQGDRWFVRNRRDSTGPPDTMQKWPSQSRADGAVADSPRRMVKQLNSIERVHSVKNLPDGFAKNLDDGSVEVAAM.\n",
      ">sample\n",
      "MSQDKNSAVDAVCHRLHAMIAH.\n",
      ">sample\n",
      "MSGYARNMPDQAVDLDIRR.\n",
      ">sample\n",
      "MTERRSAAQVQGVGFRMFVNLPDGAPDSR.\n",
      ">sample\n",
      "MNESDTNVCVKAVLACGIARVDKVRGRVQGYEVFGMVQGVGFRWWTSMHGQGPANALDLESLAGWVTNCGSVEQLVSAVNPSFAKNLDDGRVQGVAFCWRGPALELGIDDVTL.\n",
      ">sample\n",
      "MSIAGFRRASICRKGPRAVAVVEGNQDSTV.\n",
      ">sample\n",
      "MSEGSRQPTDARDCVRR.\n",
      ">sample\n",
      "MSKISGMDVKLSECEVNEIKSIAPDGRVQGVWYRAHVYKVEDQGFTFFVKNLDDGRVQGVGFRYTTQHVAGQAPEHARGSPQSPLARCGERAEALQQVNAGYAKGRVETKREFGNVQGKLSDGTVRVHLGVTGRVEVVFEVLEGRVQVVEGVDCMTGHKRYARNLRRGDVEPADHSRFNVEGVKYE.\n",
      ">sample\n",
      "MRQTVELLAWLDFIERFILAQFDIKEVEPHGDSYVINRDDAAADRIDRLLRSLERFGIRGHVQGTGQVQGVGFRWWVRNRPDQTGGVPFRNYPNGFSIRR.\n",
      ">sample\n",
      "MTPSNFPSSAQVEHMFINWCAHLHIHVTGVFYRASVDHVIHGSVDAVSLIAWLRAGTSEQEPEGESQICRRFIVLSRVEVGVEYEDPFLDFLNDLNLRKGPPAAVQGVGFRWGAPAGTKLITGYATNRADGSVEAQFRRARVQGVGFRETARSTPGAPVDAVEALKVSGVCFRVSAGNVQGVFFRKAHVSGLSGFCDFEQKLPEEKEQLVAWCHRGPRYPLADGSVEVDTHEQFVAELAAAEAQRYTTQQKPMVER.\n",
      ">sample\n",
      "MSKVQGVGYNGEAGFARALASFRFYTGFVEKLNSGFVRNRRSMREVCEVHDQQTARDEENQDVNGWVRDLDISRLPCDRARELGLLGWVRTLEAARLRQGPRTAEEEPEPQQNFLGEFSEMDLTGWVRNRADGTVQGVCFRMASDRSFSIR.\n",
      ">sample\n",
      "MKQARGTSELFAGFRYFVRLVAWVEGMVQGVHMGIKGRVQGVGFRWFTRARVDTVEAVEEFASVTEIVAEGEQIKAKQFVQGVGFRWTEVWDGYSGPRHRAHMVIAEGEPKGSPVVDQREAPGRAMENLPDGRVRCLSLLRSGLPGWVKNTSQCLAIKPL.\n",
      ">sample\n",
      "MSRNIVTCQKANALQIKIDQLGLTGWVRNEDVNGDDAVISKGLVGFRYTCFVTGDATVTVRNLDNCDDGAVKDVDEVDAVDLCGGRVQGVGFRWFVRVLLRWSEPMAGHAARVDKVRHITRVRAMAGFDIRLTAIAA.\n",
      ">sample\n",
      "MNPYKGIEIR.\n",
      ">sample\n",
      "MQKTVERMIAWMRHARVSGFVQGVGFRAFIGRMLDRLVAGAEEEVWENYKDFQISLGLTGFAIRLPVGFRFAQRQQAVQLHTVIVSGRVQGVGFRFFVEHMKIGVAGEDNYDVTLYLVYWLKSFRVTY.\n",
      ">sample\n",
      "MSKEARRIGAMVRGVVRNLPDGATPQHNITDQKSSDVDSEARANEFGTVGSVEMVQGVGFDIFEVRYMLQDGRVQGVGFRWWTRCHAVVSQAVDDVLEELVAWVEAEERVDGWVRNIDSIWDRLGVRNTRDLLDGWVKKAIQDERLLTWITH.\n",
      ">sample\n",
      "MQAIAHLVVTRVLLWLSGHVGPKLPGFARVAPASRVDRMRDDGSVEVVADGTVQGVGFRFETENKIEVLAQFTCRRAHILIKGNPADEHEIAKFFAAWRAWVANNKDDTEVRGYVKNLGVTETI.\n",
      ">sample\n",
      "MKVWIKNDAFIHIVVK.\n",
      ">sample\n",
      "MSKVHGSPFVQGVGFRFGPFARVAAGFQDFGRVQGRVQGVGFHIRY.\n",
      ">sample\n",
      "MSIDFTGHVQGVSYGLVGWVRNRLTRLKITTKHDVFRAWVRGRVQGTLQQGPAERRRVIVEGVSFRDFTGQVYGRVEYGKVQGVGFRYTARQALAEGHVQGVYYRAWTRGFEKLLSSSLIRR.\n"
     ]
    }
   ],
   "source": [
    "# sample from the model\n",
    "g = torch.Generator().manual_seed(2147483647 + 10)\n",
    "\n",
    "for _ in range(20):\n",
    "    \n",
    "    out = []\n",
    "    context = [0] * block_size # initialize with all ...\n",
    "    while True:\n",
    "      emb = C[torch.tensor([context])] # (1,block_size,d)\n",
    "      h = torch.tanh(emb.view(1, -1) @ W1 + b1)\n",
    "      logits = h @ W2 + b2\n",
    "      probs = F.softmax(logits, dim=1)\n",
    "      ix = torch.multinomial(probs, num_samples=1, generator=g).item()\n",
    "      context = context[1:] + [ix]\n",
    "      out.append(ix)\n",
    "      if ix == 0:\n",
    "        break\n",
    "    \n",
    "    print(f\">sample\\n{''.join(itos[i] for i in out)}\")"
   ]
  }
 ],
 "metadata": {
  "kernelspec": {
   "display_name": "Python 3",
   "language": "python",
   "name": "python3"
  },
  "language_info": {
   "codemirror_mode": {
    "name": "ipython",
    "version": 3
   },
   "file_extension": ".py",
   "mimetype": "text/x-python",
   "name": "python",
   "nbconvert_exporter": "python",
   "pygments_lexer": "ipython3",
   "version": "3.11.7"
  }
 },
 "nbformat": 4,
 "nbformat_minor": 4
}
