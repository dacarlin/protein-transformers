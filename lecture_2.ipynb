{
 "cells": [
  {
   "cell_type": "code",
   "execution_count": 8,
   "metadata": {},
   "outputs": [
    {
     "data": {
      "text/plain": [
       "<torch._C.Generator at 0x107f07210>"
      ]
     },
     "execution_count": 8,
     "metadata": {},
     "output_type": "execute_result"
    }
   ],
   "source": [
    "import torch \n",
    "from biotite.sequence.io.fasta import FastaFile\n",
    "\n",
    "\n",
    "torch.manual_seed(13)"
   ]
  },
  {
   "cell_type": "code",
   "execution_count": 9,
   "metadata": {},
   "outputs": [
    {
     "data": {
      "text/plain": [
       "(['MCLLSLAAATVAARRTPLRLLGRGLAAAMSTAGPLKSVDYEVFGRVQGVCFRMYTEGEAKKIGVVGWVKNTSKGTVTGQVQGPEDKVNSMKSWLSKVGSPSSRIDRTNFSNEKTISKLEYSNFSIRY',\n",
       "  'MSSQIKKSKTTTKKLVKSAPKSVPNAAADDQIFCCQFEVFGHVQDFSGVFFRKHTQKKANELGITGWCMNTTRGTVQGMLEGSLDQMTDMKYWLQHKGSPRSVIEKAVFSENEALPINNFKMFSIRR',\n",
       "  'MLTKLYLKIVLCLLVALPFLSEVTSQNTDTTMTKLVGVDFEVYGRVQGVFFRKYTQKHSTELGLKGWCMNTDKGTVVGRIEGEKEKVEQMKNWLRYTGSPQSAIDKAEFKNEKELSQPSFTNFEIKK'],\n",
       " 127)"
      ]
     },
     "execution_count": 9,
     "metadata": {},
     "output_type": "execute_result"
    }
   ],
   "source": [
    "# read in our FASTA file \n",
    "input_file = \"./fasta/hypf.fa\"\n",
    "\n",
    "proteins = []\n",
    "fasta_file = FastaFile.read(input_file) \n",
    "for header, sequence in fasta_file.items():\n",
    "    proteins.append(sequence)\n",
    "\n",
    "max_protein_length = max(len(w) for w in proteins)\n",
    "\n",
    "proteins[:3], max_protein_length"
   ]
  },
  {
   "cell_type": "code",
   "execution_count": 10,
   "metadata": {},
   "outputs": [
    {
     "name": "stdout",
     "output_type": "stream",
     "text": [
      "Number of examples in the dataset: 27246\n",
      "Max protein length: 127\n",
      "Number of unique characters in the vocabulary: 21\n",
      "Vocabulary (amino acids): ACDEFGHIKLMNPQRSTVWXY\n",
      "Total tokens: 2565728\n"
     ]
    }
   ],
   "source": [
    "chars = sorted(list(set(''.join(proteins)))) # all the possible characters\n",
    "tokens = sum(len(w) for w in proteins)\n",
    "\n",
    "print(f\"Number of examples in the dataset: {len(proteins)}\")\n",
    "print(f\"Max protein length: {max_protein_length}\")\n",
    "print(f\"Number of unique characters in the vocabulary: {len(chars)}\")\n",
    "print(f\"Vocabulary (amino acids): {''.join(chars)}\")\n",
    "print(f\"Total tokens: {tokens}\")"
   ]
  },
  {
   "cell_type": "code",
   "execution_count": 11,
   "metadata": {},
   "outputs": [
    {
     "name": "stdout",
     "output_type": "stream",
     "text": [
      "Split up the dataset into 24,522 training examples and 2,724 test examples\n"
     ]
    }
   ],
   "source": [
    "# partition the input data into a training and the test set\n",
    "test_set_size = int(len(proteins) * 0.1) # 10% of the training set\n",
    "rp = torch.randperm(len(proteins)).tolist()\n",
    "train_proteins = [proteins[i] for i in rp[:-test_set_size]]\n",
    "test_proteins = [proteins[i] for i in rp[-test_set_size:]]\n",
    "\n",
    "print(f\"Split up the dataset into {len(train_proteins):,} training examples and {len(test_proteins):,} test examples\")"
   ]
  },
  {
   "cell_type": "code",
   "execution_count": null,
   "metadata": {},
   "outputs": [],
   "source": []
  }
 ],
 "metadata": {
  "kernelspec": {
   "display_name": ".venv",
   "language": "python",
   "name": "python3"
  },
  "language_info": {
   "codemirror_mode": {
    "name": "ipython",
    "version": 3
   },
   "file_extension": ".py",
   "mimetype": "text/x-python",
   "name": "python",
   "nbconvert_exporter": "python",
   "pygments_lexer": "ipython3",
   "version": "3.11.7"
  }
 },
 "nbformat": 4,
 "nbformat_minor": 2
}
