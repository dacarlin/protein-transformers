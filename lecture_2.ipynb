{
 "cells": [
  {
   "cell_type": "code",
   "execution_count": 12,
   "metadata": {},
   "outputs": [
    {
     "data": {
      "text/plain": [
       "<torch._C.Generator at 0x13fa67630>"
      ]
     },
     "execution_count": 12,
     "metadata": {},
     "output_type": "execute_result"
    }
   ],
   "source": [
    "from biotite.sequence.io.fasta import FastaFile\n",
    "import torch \n",
    "\n",
    "\n",
    "torch.manual_seed(13)"
   ]
  },
  {
   "cell_type": "code",
   "execution_count": 17,
   "metadata": {},
   "outputs": [
    {
     "data": {
      "text/plain": [
       "('MCLLSLAAATVAARRTPLRLLGRGLAAAMSTAGPLKSVDYEVFGRVQGVCFRMYTEGEAKKIGVVGWVKNTSKGTVTGQVQGPEDKVNSMKSWLSKVGSPSSRIDRTNFSNEKTISKLEYSNFSIRY',\n",
       " 127)"
      ]
     },
     "execution_count": 17,
     "metadata": {},
     "output_type": "execute_result"
    }
   ],
   "source": [
    "# read in our FASTA file \n",
    "input_file = \"./hypf.fa\"\n",
    "\n",
    "proteins = []\n",
    "fasta_file = FastaFile.read(input_file) \n",
    "for header, sequence in fasta_file.items():\n",
    "    proteins.append(sequence)\n",
    "\n",
    "max_protein_length = max(len(w) for w in proteins)\n",
    "\n",
    "proteins[0], max_protein_length\n"
   ]
  },
  {
   "cell_type": "code",
   "execution_count": 14,
   "metadata": {},
   "outputs": [
    {
     "name": "stdout",
     "output_type": "stream",
     "text": [
      "split up the dataset into 24171 training examples and 2685 test examples\n"
     ]
    }
   ],
   "source": [
    "# partition the input data into a training and the test set\n",
    "test_set_size = int(len(proteins) * 0.1) # 10% of the training set\n",
    "rp = torch.randperm(len(proteins)).tolist()\n",
    "train_proteins = [proteins[i] for i in rp[:-test_set_size]]\n",
    "test_proteins = [proteins[i] for i in rp[-test_set_size:]]\n",
    "print(f\"split up the dataset into {len(train_proteins)} training examples and {len(test_proteins)} test examples\")\n"
   ]
  },
  {
   "cell_type": "code",
   "execution_count": 18,
   "metadata": {},
   "outputs": [
    {
     "name": "stdout",
     "output_type": "stream",
     "text": [
      "using characters as tokens\n",
      "number of examples in the dataset: 26856\n",
      "max protein length: 127\n",
      "number of unique characters in the vocabulary: 21\n",
      "vocabulary:\n",
      "ACDEFGHIKLMNPQRSTVWXY\n",
      "total tokens: 2526254\n"
     ]
    }
   ],
   "source": [
    "chars = sorted(list(set(''.join(proteins)))) # all the possible characters\n",
    "tokens = sum(len(w) for w in proteins)\n",
    "\n",
    "print(\"using characters as tokens\")\n",
    "print(f\"number of examples in the dataset: {len(proteins)}\")\n",
    "print(f\"max protein length: {max_protein_length}\")\n",
    "print(f\"number of unique characters in the vocabulary: {len(chars)}\")\n",
    "print(\"vocabulary:\")\n",
    "print(''.join(chars))\n",
    "print(f\"total tokens: {tokens}\")"
   ]
  },
  {
   "cell_type": "code",
   "execution_count": null,
   "metadata": {},
   "outputs": [],
   "source": [
    "class ProteinDataset(Dataset):\n",
    "    \"\"\"Dataset for protein sequences with character-level tokenization\"\"\"\n",
    "\n",
    "    def __init__(self, proteins, chars, max_protein_length):\n",
    "        \"\"\"\n",
    "        proteins: list of protein sequence as string\n",
    "        chars: list of tokens in the vocabulary as string\n",
    "        max_protein_length: int\n",
    "        \"\"\"\n",
    "        self.proteins = proteins\n",
    "        self.chars = chars\n",
    "        self.max_protein_length = max_protein_length\n",
    "        self.stoi = {ch: i + 1 for i, ch in enumerate(chars)}\n",
    "        self.itos = {i: s for s, i in self.stoi.items()} # inverse mapping\n",
    "\n",
    "    def __len__(self):\n",
    "        return len(self.proteins)\n",
    "\n",
    "    def contains(self, word):\n",
    "        return word in self.proteins\n",
    "\n",
    "    def get_vocab_size(self):\n",
    "        return len(self.chars) + 1 # all the possible characters and special 0 token\n",
    "\n",
    "    def get_output_length(self):\n",
    "        return self.max_protein_length + 1 # <START> token followed by proteins\n",
    "\n",
    "    def encode(self, word):\n",
    "        ix = torch.tensor([self.stoi[w] for w in word], dtype=torch.long)\n",
    "        return ix\n",
    "\n",
    "    def decode(self, ix):\n",
    "        word = ''.join(self.itos[i] for i in ix)\n",
    "        return word\n",
    "\n",
    "    def __getitem__(self, idx):\n",
    "        word = self.proteins[idx]\n",
    "        ix = self.encode(word)\n",
    "        x = torch.zeros(self.max_protein_length + 1, dtype=torch.long)\n",
    "        y = torch.zeros(self.max_protein_length + 1, dtype=torch.long)\n",
    "        x[1:1+len(ix)] = ix\n",
    "        y[:len(ix)] = ix\n",
    "        y[len(ix)+1:] = -1 # index -1 will mask the loss at the inactive locations\n",
    "        return x, y"
   ]
  }
 ],
 "metadata": {
  "kernelspec": {
   "display_name": ".venv",
   "language": "python",
   "name": "python3"
  },
  "language_info": {
   "codemirror_mode": {
    "name": "ipython",
    "version": 3
   },
   "file_extension": ".py",
   "mimetype": "text/x-python",
   "name": "python",
   "nbconvert_exporter": "python",
   "pygments_lexer": "ipython3",
   "version": "3.11.7"
  }
 },
 "nbformat": 4,
 "nbformat_minor": 2
}
