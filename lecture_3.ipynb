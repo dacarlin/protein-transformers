{
 "cells": [
  {
   "cell_type": "code",
   "execution_count": 1,
   "metadata": {},
   "outputs": [],
   "source": [
    "# pip install rich ipywidgets"
   ]
  },
  {
   "cell_type": "code",
   "execution_count": 2,
   "metadata": {},
   "outputs": [
    {
     "data": {
      "text/plain": [
       "<torch._C.Generator at 0x108849730>"
      ]
     },
     "execution_count": 2,
     "metadata": {},
     "output_type": "execute_result"
    }
   ],
   "source": [
    "import torch \n",
    "from biotite.sequence.io.fasta import FastaFile\n",
    "from rich.progress import track \n",
    "import torch.nn.functional as F\n",
    "import plotly.express as px \n",
    "import matplotlib.pyplot as plt \n",
    "\n",
    "torch.manual_seed(13)"
   ]
  },
  {
   "cell_type": "code",
   "execution_count": 3,
   "metadata": {},
   "outputs": [
    {
     "data": {
      "text/plain": [
       "(['MCLLSLAAATVAARRTPLRLLGRGLAAAMSTAGPLKSVDYEVFGRVQGVCFRMYTEGEAKKIGVVGWVKNTSKGTVTGQVQGPEDKVNSMKSWLSKVGSPSSRIDRTNFSNEKTISKLEYSNFSIRY',\n",
       "  'MSSQIKKSKTTTKKLVKSAPKSVPNAAADDQIFCCQFEVFGHVQDFSGVFFRKHTQKKANELGITGWCMNTTRGTVQGMLEGSLDQMTDMKYWLQHKGSPRSVIEKAVFSENEALPINNFKMFSIRR',\n",
       "  'MLTKLYLKIVLCLLVALPFLSEVTSQNTDTTMTKLVGVDFEVYGRVQGVFFRKYTQKHSTELGLKGWCMNTDKGTVVGRIEGEKEKVEQMKNWLRYTGSPQSAIDKAEFKNEKELSQPSFTNFEIKK'],\n",
       " 127)"
      ]
     },
     "execution_count": 3,
     "metadata": {},
     "output_type": "execute_result"
    }
   ],
   "source": [
    "# read in our FASTA file \n",
    "input_file = \"./fasta/hypf.fa\"\n",
    "\n",
    "proteins = []\n",
    "fasta_file = FastaFile.read(input_file) \n",
    "for header, sequence in fasta_file.items():\n",
    "    proteins.append(sequence)\n",
    "\n",
    "max_protein_length = max(len(w) for w in proteins)\n",
    "\n",
    "proteins[:3], max_protein_length"
   ]
  },
  {
   "cell_type": "code",
   "execution_count": 4,
   "metadata": {},
   "outputs": [
    {
     "name": "stdout",
     "output_type": "stream",
     "text": [
      "{1: 'A', 2: 'C', 3: 'D', 4: 'E', 5: 'F', 6: 'G', 7: 'H', 8: 'I', 9: 'K', 10: 'L', 11: 'M', 12: 'N', 13: 'P', 14: 'Q', 15: 'R', 16: 'S', 17: 'T', 18: 'V', 19: 'W', 20: 'X', 21: 'Y', 0: '.'}\n"
     ]
    }
   ],
   "source": [
    "# build the vocabulary of characters and mappings to/from integers\n",
    "chars = sorted(list(set(''.join(proteins))))\n",
    "stoi = {s:i+1 for i,s in enumerate(chars)}\n",
    "stoi['.'] = 0\n",
    "itos = {i:s for s,i in stoi.items()}\n",
    "print(itos)"
   ]
  },
  {
   "cell_type": "code",
   "execution_count": 5,
   "metadata": {},
   "outputs": [],
   "source": [
    "# build the dataset\n",
    "\n",
    "block_size = 3 # context length: how many characters do we take to predict the next one?\n",
    "X, Y = [], []\n",
    "for protein in proteins:\n",
    "  \n",
    "  #print(w)\n",
    "  context = [0] * block_size\n",
    "  for ch in protein + '.':\n",
    "    ix = stoi[ch]\n",
    "    X.append(context)\n",
    "    Y.append(ix)\n",
    "    #print(''.join(itos[i] for i in context), '--->', itos[ix])\n",
    "    context = context[1:] + [ix] # crop and append\n",
    "  \n",
    "X = torch.tensor(X)\n",
    "Y = torch.tensor(Y)"
   ]
  },
  {
   "cell_type": "code",
   "execution_count": 6,
   "metadata": {},
   "outputs": [
    {
     "data": {
      "text/plain": [
       "(torch.Size([2592974, 3]), torch.int64, torch.Size([2592974]), torch.int64)"
      ]
     },
     "execution_count": 6,
     "metadata": {},
     "output_type": "execute_result"
    }
   ],
   "source": [
    "X.shape, X.dtype, Y.shape, Y.dtype"
   ]
  },
  {
   "cell_type": "code",
   "execution_count": 7,
   "metadata": {},
   "outputs": [
    {
     "name": "stdout",
     "output_type": "stream",
     "text": [
      "torch.Size([2075077, 3]) torch.Size([2075077])\n",
      "torch.Size([259018, 3]) torch.Size([259018])\n",
      "torch.Size([258879, 3]) torch.Size([258879])\n"
     ]
    }
   ],
   "source": [
    "# build the dataset\n",
    "block_size = 3 # context length: how many characters do we take to predict the next one?\n",
    "\n",
    "def build_dataset(proteins):  \n",
    "  X, Y = [], []\n",
    "  for w in proteins:\n",
    "\n",
    "    #print(w)\n",
    "    context = [0] * block_size\n",
    "    for ch in w + '.':\n",
    "      ix = stoi[ch]\n",
    "      X.append(context)\n",
    "      Y.append(ix)\n",
    "      #print(''.join(itos[i] for i in context), '--->', itos[ix])\n",
    "      context = context[1:] + [ix] # crop and append\n",
    "\n",
    "  X = torch.tensor(X)\n",
    "  Y = torch.tensor(Y)\n",
    "  print(X.shape, Y.shape)\n",
    "  return X, Y\n",
    "\n",
    "import random\n",
    "random.seed(42)\n",
    "random.shuffle(proteins)\n",
    "n1 = int(0.8*len(proteins))\n",
    "n2 = int(0.9*len(proteins))\n",
    "\n",
    "Xtr, Ytr = build_dataset(proteins[:n1])\n",
    "Xdev, Ydev = build_dataset(proteins[n1:n2])\n",
    "Xte, Yte = build_dataset(proteins[n2:])\n"
   ]
  },
  {
   "cell_type": "code",
   "execution_count": 8,
   "metadata": {},
   "outputs": [],
   "source": [
    "vocab_size = len(chars) + 1\n",
    "\n",
    "C = torch.randn((vocab_size, 2))"
   ]
  },
  {
   "cell_type": "code",
   "execution_count": 9,
   "metadata": {},
   "outputs": [
    {
     "data": {
      "text/plain": [
       "torch.Size([2592974, 3, 2])"
      ]
     },
     "execution_count": 9,
     "metadata": {},
     "output_type": "execute_result"
    }
   ],
   "source": [
    "emb = C[X]\n",
    "emb.shape"
   ]
  },
  {
   "cell_type": "code",
   "execution_count": 10,
   "metadata": {},
   "outputs": [],
   "source": [
    "W1 = torch.randn((6, 100))\n",
    "b1 = torch.randn(100)"
   ]
  },
  {
   "cell_type": "code",
   "execution_count": 11,
   "metadata": {},
   "outputs": [],
   "source": [
    "h = torch.tanh(emb.view(-1, 6) @ W1 + b1)"
   ]
  },
  {
   "cell_type": "code",
   "execution_count": 12,
   "metadata": {},
   "outputs": [
    {
     "data": {
      "text/plain": [
       "tensor([[-0.9771,  0.2311, -0.1473,  ..., -0.8784,  0.9636, -0.5723],\n",
       "        [-0.9486,  0.7366, -0.1345,  ..., -0.1930,  0.8090, -0.9160],\n",
       "        [ 0.9051,  0.9992, -0.4432,  ...,  0.7134,  0.3724, -0.6566],\n",
       "        ...,\n",
       "        [-0.8140, -1.0000,  0.9405,  ..., -1.0000,  0.9816,  0.5699],\n",
       "        [-0.9105, -1.0000,  0.9844,  ..., -1.0000,  0.9896, -0.4413],\n",
       "        [-0.9999, -1.0000,  0.9892,  ..., -1.0000,  0.9903, -0.9990]])"
      ]
     },
     "execution_count": 12,
     "metadata": {},
     "output_type": "execute_result"
    }
   ],
   "source": [
    "h"
   ]
  },
  {
   "cell_type": "code",
   "execution_count": 13,
   "metadata": {},
   "outputs": [
    {
     "data": {
      "text/plain": [
       "torch.Size([2592974, 100])"
      ]
     },
     "execution_count": 13,
     "metadata": {},
     "output_type": "execute_result"
    }
   ],
   "source": [
    "h.shape"
   ]
  },
  {
   "cell_type": "code",
   "execution_count": 14,
   "metadata": {},
   "outputs": [],
   "source": [
    "W2 = torch.randn((100, vocab_size))\n",
    "b2 = torch.randn(vocab_size)"
   ]
  },
  {
   "cell_type": "code",
   "execution_count": 15,
   "metadata": {},
   "outputs": [],
   "source": [
    "logits = h @ W2 + b2"
   ]
  },
  {
   "cell_type": "code",
   "execution_count": 16,
   "metadata": {},
   "outputs": [
    {
     "data": {
      "text/plain": [
       "torch.Size([2592974, 22])"
      ]
     },
     "execution_count": 16,
     "metadata": {},
     "output_type": "execute_result"
    }
   ],
   "source": [
    "logits.shape"
   ]
  },
  {
   "cell_type": "code",
   "execution_count": 17,
   "metadata": {},
   "outputs": [],
   "source": [
    "counts = logits.exp()"
   ]
  },
  {
   "cell_type": "code",
   "execution_count": 18,
   "metadata": {},
   "outputs": [],
   "source": [
    "prob = counts / counts.sum(1, keepdims=True)"
   ]
  },
  {
   "cell_type": "code",
   "execution_count": 19,
   "metadata": {},
   "outputs": [
    {
     "data": {
      "text/plain": [
       "torch.Size([2592974, 22])"
      ]
     },
     "execution_count": 19,
     "metadata": {},
     "output_type": "execute_result"
    }
   ],
   "source": [
    "prob.shape"
   ]
  },
  {
   "cell_type": "code",
   "execution_count": 20,
   "metadata": {},
   "outputs": [
    {
     "data": {
      "text/plain": [
       "tensor(17.8426)"
      ]
     },
     "execution_count": 20,
     "metadata": {},
     "output_type": "execute_result"
    }
   ],
   "source": [
    "loss = -prob[torch.arange(X.shape[0]), Y].log().mean()\n",
    "loss"
   ]
  },
  {
   "cell_type": "code",
   "execution_count": 21,
   "metadata": {},
   "outputs": [],
   "source": [
    "# ------------ now made respectable :) ---------------"
   ]
  },
  {
   "cell_type": "code",
   "execution_count": 22,
   "metadata": {},
   "outputs": [
    {
     "data": {
      "text/plain": [
       "(torch.Size([2075077, 3]), torch.Size([2075077]))"
      ]
     },
     "execution_count": 22,
     "metadata": {},
     "output_type": "execute_result"
    }
   ],
   "source": [
    "Xtr.shape, Ytr.shape # dataset"
   ]
  },
  {
   "cell_type": "code",
   "execution_count": 23,
   "metadata": {},
   "outputs": [],
   "source": [
    "g = torch.Generator().manual_seed(2147483647) # for reproducibility\n",
    "C = torch.randn((vocab_size, 10), generator=g)\n",
    "W1 = torch.randn((30, 200), generator=g)\n",
    "b1 = torch.randn(200, generator=g)\n",
    "W2 = torch.randn((200, vocab_size), generator=g)\n",
    "b2 = torch.randn(vocab_size, generator=g)\n",
    "parameters = [C, W1, b1, W2, b2]"
   ]
  },
  {
   "cell_type": "code",
   "execution_count": 24,
   "metadata": {},
   "outputs": [
    {
     "data": {
      "text/plain": [
       "10842"
      ]
     },
     "execution_count": 24,
     "metadata": {},
     "output_type": "execute_result"
    }
   ],
   "source": [
    "sum(p.nelement() for p in parameters) # number of parameters in total"
   ]
  },
  {
   "cell_type": "code",
   "execution_count": 25,
   "metadata": {},
   "outputs": [],
   "source": [
    "for p in parameters:\n",
    "  p.requires_grad = True"
   ]
  },
  {
   "cell_type": "code",
   "execution_count": 26,
   "metadata": {},
   "outputs": [],
   "source": [
    "lre = torch.linspace(-3, 0, 1000)\n",
    "lrs = 10**lre"
   ]
  },
  {
   "cell_type": "code",
   "execution_count": 27,
   "metadata": {},
   "outputs": [],
   "source": [
    "lri = []\n",
    "lossi = []\n",
    "stepi = []"
   ]
  },
  {
   "cell_type": "code",
   "execution_count": 28,
   "metadata": {},
   "outputs": [
    {
     "data": {
      "application/vnd.jupyter.widget-view+json": {
       "model_id": "183a135868d2458a829bdd2af28296d7",
       "version_major": 2,
       "version_minor": 0
      },
      "text/plain": [
       "Output()"
      ]
     },
     "metadata": {},
     "output_type": "display_data"
    },
    {
     "data": {
      "text/html": [
       "<pre style=\"white-space:pre;overflow-x:auto;line-height:normal;font-family:Menlo,'DejaVu Sans Mono',consolas,'Courier New',monospace\"></pre>\n"
      ],
      "text/plain": []
     },
     "metadata": {},
     "output_type": "display_data"
    }
   ],
   "source": [
    "for i in track(range(200000)):\n",
    "  \n",
    "  # minibatch construct\n",
    "  ix = torch.randint(0, Xtr.shape[0], (32,))\n",
    "  \n",
    "  # forward pass\n",
    "  emb = C[Xtr[ix]] # (32, 3, 10)\n",
    "  #print(emb.shape)\n",
    "  h = torch.tanh(emb.view(-1, 30) @ W1 + b1) # (32, 200)\n",
    "  logits = h @ W2 + b2 # (32, vocab_size)\n",
    "  loss = F.cross_entropy(logits, Ytr[ix])\n",
    "  #print(loss.item())\n",
    "  \n",
    "  # backward pass\n",
    "  for p in parameters:\n",
    "    p.grad = None\n",
    "  loss.backward()\n",
    "  \n",
    "  # update\n",
    "  #lr = lrs[i]\n",
    "  lr = 0.1 if i < 100000 else 0.01\n",
    "  for p in parameters:\n",
    "    p.data += -lr * p.grad\n",
    "\n",
    "  # track stats\n",
    "  #lri.append(lre[i])\n",
    "  stepi.append(i)\n",
    "  lossi.append(loss.log10().item())\n",
    "\n",
    "#print(loss.item())"
   ]
  },
  {
   "cell_type": "code",
   "execution_count": 44,
   "metadata": {},
   "outputs": [
    {
     "data": {
      "text/plain": [
       "[<matplotlib.lines.Line2D at 0x177ef3e90>]"
      ]
     },
     "execution_count": 44,
     "metadata": {},
     "output_type": "execute_result"
    },
    {
     "data": {
      "image/png": "[encoded data removed]",
      "text/plain": [
       "<Figure size 640x480 with 1 Axes>"
      ]
     },
     "metadata": {},
     "output_type": "display_data"
    }
   ],
   "source": [
    "plt.plot(stepi, lossi) "
   ]
  },
  {
   "cell_type": "code",
   "execution_count": 30,
   "metadata": {},
   "outputs": [
    {
     "data": {
      "text/plain": [
       "tensor(2.2453, grad_fn=<NllLossBackward0>)"
      ]
     },
     "execution_count": 30,
     "metadata": {},
     "output_type": "execute_result"
    }
   ],
   "source": [
    "emb = C[Xtr] # (32, 3, 2)\n",
    "h = torch.tanh(emb.view(-1, 30) @ W1 + b1) # (32, 100)\n",
    "logits = h @ W2 + b2 # (32, vocab_size)\n",
    "loss = F.cross_entropy(logits, Ytr)\n",
    "loss"
   ]
  },
  {
   "cell_type": "code",
   "execution_count": 31,
   "metadata": {},
   "outputs": [
    {
     "data": {
      "text/plain": [
       "tensor(2.2495, grad_fn=<NllLossBackward0>)"
      ]
     },
     "execution_count": 31,
     "metadata": {},
     "output_type": "execute_result"
    }
   ],
   "source": [
    "emb = C[Xdev] # (32, 3, 2)\n",
    "h = torch.tanh(emb.view(-1, 30) @ W1 + b1) # (32, 100)\n",
    "logits = h @ W2 + b2 # (32, vocab_size)\n",
    "loss = F.cross_entropy(logits, Ydev)\n",
    "loss"
   ]
  },
  {
   "cell_type": "code",
   "execution_count": 32,
   "metadata": {},
   "outputs": [
    {
     "data": {
      "text/plain": [
       "{1: 'A',\n",
       " 2: 'C',\n",
       " 3: 'D',\n",
       " 4: 'E',\n",
       " 5: 'F',\n",
       " 6: 'G',\n",
       " 7: 'H',\n",
       " 8: 'I',\n",
       " 9: 'K',\n",
       " 10: 'L',\n",
       " 11: 'M',\n",
       " 12: 'N',\n",
       " 13: 'P',\n",
       " 14: 'Q',\n",
       " 15: 'R',\n",
       " 16: 'S',\n",
       " 17: 'T',\n",
       " 18: 'V',\n",
       " 19: 'W',\n",
       " 20: 'X',\n",
       " 21: 'Y',\n",
       " 0: '.'}"
      ]
     },
     "execution_count": 32,
     "metadata": {},
     "output_type": "execute_result"
    }
   ],
   "source": [
    "itos"
   ]
  },
  {
   "cell_type": "code",
   "execution_count": 33,
   "metadata": {},
   "outputs": [
    {
     "data": {
      "text/plain": [
       "torch.Size([22, 10])"
      ]
     },
     "execution_count": 33,
     "metadata": {},
     "output_type": "execute_result"
    }
   ],
   "source": [
    "C.shape"
   ]
  },
  {
   "cell_type": "code",
   "execution_count": 34,
   "metadata": {},
   "outputs": [
    {
     "data": {
      "image/png": "[encoded data removed]",
      "text/plain": [
       "<Figure size 800x800 with 1 Axes>"
      ]
     },
     "metadata": {},
     "output_type": "display_data"
    }
   ],
   "source": [
    "# visualize dimensions 0 and 1 of the embedding matrix C for all characters\n",
    "plt.figure(figsize=(8,8))\n",
    "plt.scatter(C[:,0].data, C[:,1].data, s=200)\n",
    "for i in range(C.shape[0]):\n",
    "    itos[i]\n",
    "    plt.text(C[i,0].item(), C[i,1].item(), itos[i], ha=\"center\", va=\"center\", color='white')\n",
    "plt.grid('minor')"
   ]
  },
  {
   "cell_type": "code",
   "execution_count": 35,
   "metadata": {},
   "outputs": [],
   "source": [
    "# training split, dev/validation split, test split\n",
    "# 80%, 10%, 10%"
   ]
  },
  {
   "cell_type": "code",
   "execution_count": 36,
   "metadata": {},
   "outputs": [
    {
     "data": {
      "text/plain": [
       "torch.Size([1, 3, 10])"
      ]
     },
     "execution_count": 36,
     "metadata": {},
     "output_type": "execute_result"
    }
   ],
   "source": [
    "context = [0] * block_size\n",
    "C[torch.tensor([context])].shape"
   ]
  },
  {
   "cell_type": "code",
   "execution_count": 37,
   "metadata": {},
   "outputs": [
    {
     "name": "stdout",
     "output_type": "stream",
     "text": [
      ">sample\n",
      "MKAKKLGLLISGVWYRRARVDGRVDGWVRNLPDASFYIRL.\n",
      ">sample\n",
      "MAEQLFVFSNFEATVERVEAMGAKILAQDGAVEVLLSDGRDEVVAHGDVQGPPGAAANTPGLKGWVRNRRFTRFRGFRWYVRNLPDGQVQKQHARAGPPGARTPGHPCQVGPRSAQVAGYEGPEEPPIQPSAERLGLAGWHRSIRY.\n",
      ">sample\n",
      "MGSASRLWKDFKSFGVVQRLGTLGLTGYTRGFIIC.\n",
      ">sample\n",
      "MAESSADIIEGRVEIIDWLESLESLENFDGSVEYAQKMVSGFAIVSGEVGVNGRVQGVGFACRVEFSRLLEQLKAGPIRAQVDRVEVSSEEHVIIW.\n",
      ">sample\n",
      "MSEARTEAEGPATVSLVKLTCWAASQACGEMVAWLKEGLTGWVRNLDDGSVEEVIAQEIIKGKVQGEVEMEVYGRVQIQGLLRLRAVGIYVRAASEAKAKKQIPATALITGWVRNLPDHVVKRAMARQLAAGVPGTVPRVAGFAKNMAEGEPTPDAVYIKNLPDGRVQGVGFRYSYNQKDGLLAWVRGEAVIESPIDGWVKGYVRNEPDGRVQGVIKPTEEVRTRCSRMIARDLGLNGFTERVTEHGLTEPHDGSVDFEVAANLEQGPRSRAVE.\n",
      ">sample\n",
      "MTKKHKQLNALNLSHDGSSIEMLLRGWCKRGPRSAWVYYRAFVSEQHIATPGRVEIVAIIVDAFKKKIENSLKKGPLLENFARAREIDLVEWCRERAEIAQEIGPSEARGLVGWVRNERSPVEVLAESQRLGVTGFAIRAIAVKRNEYDGSVFINTVTWVVGKVQGVKGAANMANLEGDRDEALMELVEEMTVQGVSGHVQGVGAQDIIRL.\n",
      ">sample\n",
      "MRKLGVKGYARVEGLHGHVQGVFFRKYGSFGCPVKILFIKITAQDLELARRESVDVEEELEDGPQLRLREYEGEEDLYGWVKNRFEILGARVFEGPPSSDGEVQGVGFRWSRATAGTAEAVLSEPAEARALALIQFRIEPEPVRQVLQCRVKVRDEAEERLGISGLAGFSIRY.\n",
      ">sample\n",
      "MTDNSVEILY.\n",
      ">sample\n",
      "MSDVGEGSVPCLAYVRNLGLTGYVRNNRYSEAATDREELKIFAAQGPRSAAIQVDENVPYEQKASLRKGPDGSVEVEEVEAVSSVCGHVQGVWYRTFVEMELQGPPSAQYEEVIAGWSAAAAGDPKSDYSSFKVDAVSTEDQYAKNLNAARATEIWIHKFGFEVLAALDEILTGYAAQLLFEGFVANLPDGRVQGVGFRFFVRHDGSVKVSDVEVEGVEDVRDRARTIEKHLVRCTTAKVKNLFTRISGRVQGVFFREWYKQSGDADPARAEGPREAESFFIIPVAPSALNLNYTPGRVQGVYFMRQSGRVEVVAEGPKKLGVKVTSWAHVNIKY.\n",
      ">sample\n",
      "MGFKSYQKSITVRKRLGVTELTGFAEGPQDATRAKLKGYAINVKEMKAWAGPPDPPAAQRLSTVKTMIETIITVASGLRGGLVQWLREGAAEVRY.\n",
      ">sample\n",
      "MSESASNHADVVITGEFSKDYADNDKDAQVQEGPPGAR.\n",
      ">sample\n",
      "MKTHIDQWVRNLDKLNISRVMVAR.\n",
      ">sample\n",
      "MISRLALGLSGYEVADRDDKPECRMRYHGESLDWWGRYKKFKEVKHIEKIIR.\n",
      ">sample\n",
      "MAGFVQGVFFRKWIKDSEEGSPDGLAIIRLGLRGYARNFRYSGRVEVVAEGTVENLLGYRFFTKNNKSYPEQIRANYSTACFRVTSMEVFGRVEAVEEMIRY.\n",
      ">sample\n",
      "MNKLEVGAAQ.\n",
      ">sample\n",
      "MSAVVEGEALRRDGPPAARVSLVTSESESCF.\n",
      ">sample\n",
      "MVEQLLGWGVPSEVVPRTAKGLLLESGFAEKGLAGSEEEDQLIVVEGLRGWVKNLSDGRVEVIVSGRVQGVFEEWM.\n",
      ">sample\n",
      "MNRADVEVYGRVQGVGGRRSQMVEWCEPPGAEGPTEEQVAEAKAVRCVENVLNLDDGRVQGVGFRWGVKGKVQGVGFRYYTQNLGSPSSRICIGFNVTG.\n",
      ">sample\n",
      "MDSGDDEGRNDKNITGWVSGVHFRATDFVDVVIECQGPRMHVQGVGYRSFTNRYIQELGLRLVGYVRISCERASIIVR.\n",
      ">sample\n",
      "MARVDKMLSWAAEVEGWVRNLKDGPSPPTSKGTPLTEPLADGRVQGVFFRSFIAQLYEGPESKYGRVQGVGYRFFLKY.\n"
     ]
    }
   ],
   "source": [
    "# sample from the model\n",
    "g = torch.Generator().manual_seed(2147483647 + 10)\n",
    "\n",
    "for _ in range(20):\n",
    "    \n",
    "    out = []\n",
    "    context = [0] * block_size # initialize with all ...\n",
    "    while True:\n",
    "      emb = C[torch.tensor([context])] # (1,block_size,d)\n",
    "      h = torch.tanh(emb.view(1, -1) @ W1 + b1)\n",
    "      logits = h @ W2 + b2\n",
    "      probs = F.softmax(logits, dim=1)\n",
    "      ix = torch.multinomial(probs, num_samples=1, generator=g).item()\n",
    "      context = context[1:] + [ix]\n",
    "      out.append(ix)\n",
    "      if ix == 0:\n",
    "        break\n",
    "    \n",
    "    print(f\">sample\\n{''.join(itos[i] for i in out)}\")"
   ]
  }
 ],
 "metadata": {
  "kernelspec": {
   "display_name": "Python 3",
   "language": "python",
   "name": "python3"
  },
  "language_info": {
   "codemirror_mode": {
    "name": "ipython",
    "version": 3
   },
   "file_extension": ".py",
   "mimetype": "text/x-python",
   "name": "python",
   "nbconvert_exporter": "python",
   "pygments_lexer": "ipython3",
   "version": "3.11.7"
  }
 },
 "nbformat": 4,
 "nbformat_minor": 4
}
