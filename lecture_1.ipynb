{
 "cells": [
  {
   "cell_type": "code",
   "execution_count": 13,
   "metadata": {},
   "outputs": [],
   "source": [
    "import pandas \n",
    "from biotite.sequence.io.fasta import FastaFile"
   ]
  },
  {
   "cell_type": "code",
   "execution_count": 16,
   "metadata": {},
   "outputs": [
    {
     "name": "stdout",
     "output_type": "stream",
     "text": [
      "28856 sequences\n"
     ]
    }
   ],
   "source": [
    "headers = []\n",
    "sequences = []\n",
    "lengths = []\n",
    "\n",
    "fn = FastaFile.read(\"./hypf-raw.txt\")\n",
    "\n",
    "for header, sequence in fn.items():\n",
    "    \n",
    "    header = header.split(\"|\")[1]\n",
    "    sequence = str(sequence)\n",
    "    length = len(sequence)\n",
    "    \n",
    "    headers.append(header)\n",
    "    sequences.append(sequence)\n",
    "    lengths.append(length)\n",
    "\n",
    "print(f\"{len(headers)} sequences\")"
   ]
  },
  {
   "cell_type": "code",
   "execution_count": 17,
   "metadata": {},
   "outputs": [
    {
     "data": {
      "text/plain": [
       "array([[<Axes: title={'center': 'length'}>]], dtype=object)"
      ]
     },
     "execution_count": 17,
     "metadata": {},
     "output_type": "execute_result"
    },
    {
     "data": {
      "image/png": "[encoded data removed]",
      "text/plain": [
       "<Figure size 400x400 with 1 Axes>"
      ]
     },
     "metadata": {},
     "output_type": "display_data"
    }
   ],
   "source": [
    "df = pandas.DataFrame({\n",
    "    \"header\": headers, \n",
    "    \"sequence\": sequences, \n",
    "    \"length\": lengths, \n",
    "})\n",
    "\n",
    "df.hist(\"length\", bins=50, color=\"black\", figsize=(4, 4))"
   ]
  },
  {
   "cell_type": "code",
   "execution_count": 19,
   "metadata": {},
   "outputs": [
    {
     "data": {
      "text/plain": [
       "((28856, 3), (26856, 3))"
      ]
     },
     "execution_count": 19,
     "metadata": {},
     "output_type": "execute_result"
    }
   ],
   "source": [
    "orig_shape = df.shape \n",
    "\n",
    "df = df[\n",
    "    (df[\"sequence\"].str.startswith(\"M\")) & \n",
    "    (df[\"length\"] >= 64) & \n",
    "    (df[\"length\"] < 128)   # so the block_size ends up at 128 \n",
    "]\n",
    "\n",
    "orig_shape, df.shape "
   ]
  },
  {
   "cell_type": "code",
   "execution_count": 20,
   "metadata": {},
   "outputs": [
    {
     "name": "stdout",
     "output_type": "stream",
     "text": [
      ">A0A0A0MQQ1\n",
      "MCLLSLAAATVAARRTPLRLLGRGLAAAMSTAGPLKSVDYEVFGRVQGVCFRMYTEGEAKKIGVVGWVKNTSKGTVTGQVQGPEDKVNSMKSWLSKVGSPSSRIDRTNFSNEKTISKLEYSNFSIRY\n",
      ">A0A0J9R170\n",
      "MSSQIKKSKTTTKKLVKSAPKSVPNAAADDQIFCCQFEVFGHVQDFSGVFFRKHTQKKANELGITGWCMNTTRGTVQGMLEGSLDQMTDMKYWLQHKGSPRSVIEKAVFSENEALPINNFKMFSIRR\n",
      ">A0A0L7RIB7\n",
      "MLTKLYLKIVLCLLVALPFLSEVTSQNTDTTMTKLVGVDFEVYGRVQGVFFRKYTQKHSTELGLKGWCMNTDKGTVVGRIEGEKEKVEQMKNWLRYTGSPQSAIDKAEFKNEKELSQPSFTNFEIKK\n",
      ">A0A1B2IV65\n",
      "MTTNRTVVALLHKLRKLRDWYVITQANGVTLPETTTEPITRVHYVFHGKVQKVGFRLLLKTIADRMHLTGWVMNNDNLDVVAEVQGTPTQLAFIKHYLSTGVKRIQVAQIEERQADIALNEHQFIIK\n"
     ]
    }
   ],
   "source": [
    "df.to_csv(\"hypf.csv\", index=False)\n",
    "\n",
    "with open(\"hypf.fa\", \"w\") as fn:\n",
    "    for idx, row in df.iterrows():\n",
    "        line = f\">{row['header']}\\n{row['sequence']}\\n\"\n",
    "        fn.write(line)\n",
    "\n",
    "! head -8 hypf.fa "
   ]
  },
  {
   "cell_type": "code",
   "execution_count": 21,
   "metadata": {},
   "outputs": [
    {
     "data": {
      "text/plain": [
       "'ACT_SITE 18; /evidence=\"ECO:0000256|PROSITE-ProRule:PRU00520\"; ACT_SITE 36; /evidence=\"ECO:0000256|PROSITE-ProRule:PRU00520\"'"
      ]
     },
     "execution_count": 21,
     "metadata": {},
     "output_type": "execute_result"
    }
   ],
   "source": [
    "# add in active site data \n",
    "\n",
    "metadata = pandas.read_csv(\"./metadata.txt\", sep=\"\\t\", index_col=0)\n",
    "\n",
    "example = metadata.iloc[0, -1]\n",
    "\n",
    "example "
   ]
  },
  {
   "cell_type": "code",
   "execution_count": 22,
   "metadata": {},
   "outputs": [
    {
     "data": {
      "text/plain": [
       "Index(['Entry Name', 'Protein names', 'Gene Names', 'Organism', 'Length',\n",
       "       'Taxonomic lineage', 'Active site'],\n",
       "      dtype='object')"
      ]
     },
     "execution_count": 22,
     "metadata": {},
     "output_type": "execute_result"
    }
   ],
   "source": [
    "metadata.columns"
   ]
  },
  {
   "cell_type": "code",
   "execution_count": 23,
   "metadata": {},
   "outputs": [],
   "source": [
    "import re "
   ]
  },
  {
   "cell_type": "code",
   "execution_count": 24,
   "metadata": {},
   "outputs": [],
   "source": [
    "import numpy "
   ]
  },
  {
   "cell_type": "code",
   "execution_count": 25,
   "metadata": {},
   "outputs": [],
   "source": [
    "active_site_1 = []\n",
    "active_site_2 = []\n",
    "taxons = []\n",
    "for idx, row in metadata.iterrows():\n",
    "    my_active_site = []\n",
    "    for x in re.findall(\"ACT_SITE (\\d+);\", row[\"Active site\"]):\n",
    "        my_active_site.append(int(x))\n",
    "    active_site_1 = my_active_site[0]\n",
    "    active_site_2 = my_active_site[1] if len(my_active_site) > 1 else None \n",
    "\n",
    "    line = row[\"Taxonomic lineage\"]\n",
    "    taxon = \"other\"\n",
    "    if \"Euk\" in line:\n",
    "        taxon = \"eukaryote\"\n",
    "    if \"Archaea\" in line:\n",
    "        taxon = \"archean\"\n",
    "    if \"Bacteria\" in line:\n",
    "        taxon = \"bacteria\"\n",
    "    taxons.append(taxon)\n",
    "\n",
    "metadata[\"act_1\"] = active_site_1\n",
    "metadata[\"act_2\"] = active_site_2\n",
    "metadata[\"taxon\"] = taxons\n",
    "metadata[\"length\"] = metadata[\"Length\"]\n",
    "\n",
    "metadata = metadata.loc[headers, [\"act_1\", \"act_2\", \"length\", \"taxon\"]]\n",
    "\n",
    "metadata = metadata.dropna() "
   ]
  },
  {
   "cell_type": "code",
   "execution_count": 26,
   "metadata": {},
   "outputs": [
    {
     "data": {
      "text/plain": [
       "<Axes: >"
      ]
     },
     "execution_count": 26,
     "metadata": {},
     "output_type": "execute_result"
    },
    {
     "data": {
      "image/png": "[encoded data removed]",
      "text/plain": [
       "<Figure size 640x480 with 1 Axes>"
      ]
     },
     "metadata": {},
     "output_type": "display_data"
    }
   ],
   "source": [
    "metadata[\"length\"].hist()"
   ]
  },
  {
   "cell_type": "code",
   "execution_count": 27,
   "metadata": {},
   "outputs": [
    {
     "data": {
      "text/plain": [
       "taxon\n",
       "bacteria     23138\n",
       "eukaryote     2996\n",
       "archean       2722\n",
       "Name: count, dtype: int64"
      ]
     },
     "execution_count": 27,
     "metadata": {},
     "output_type": "execute_result"
    }
   ],
   "source": [
    "metadata[\"taxon\"].value_counts() "
   ]
  },
  {
   "cell_type": "code",
   "execution_count": null,
   "metadata": {},
   "outputs": [],
   "source": []
  }
 ],
 "metadata": {
  "kernelspec": {
   "display_name": ".venv",
   "language": "python",
   "name": "python3"
  },
  "language_info": {
   "codemirror_mode": {
    "name": "ipython",
    "version": 3
   },
   "file_extension": ".py",
   "mimetype": "text/x-python",
   "name": "python",
   "nbconvert_exporter": "python",
   "pygments_lexer": "ipython3",
   "version": "3.11.7"
  }
 },
 "nbformat": 4,
 "nbformat_minor": 2
}
